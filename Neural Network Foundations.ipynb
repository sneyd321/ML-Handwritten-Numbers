{
 "cells": [
  {
   "cell_type": "code",
   "execution_count": 1,
   "metadata": {},
   "outputs": [
    {
     "name": "stderr",
     "output_type": "stream",
     "text": [
      "Using TensorFlow backend.\n"
     ]
    },
    {
     "name": "stdout",
     "output_type": "stream",
     "text": [
      "60000 train samples\n",
      "10000 test samples\n",
      "_________________________________________________________________\n",
      "Layer (type)                 Output Shape              Param #   \n",
      "=================================================================\n",
      "dense_1 (Dense)              (None, 128)               100480    \n",
      "_________________________________________________________________\n",
      "activation_1 (Activation)    (None, 128)               0         \n",
      "_________________________________________________________________\n",
      "dropout_1 (Dropout)          (None, 128)               0         \n",
      "_________________________________________________________________\n",
      "dense_2 (Dense)              (None, 128)               16512     \n",
      "_________________________________________________________________\n",
      "activation_2 (Activation)    (None, 128)               0         \n",
      "_________________________________________________________________\n",
      "dropout_2 (Dropout)          (None, 128)               0         \n",
      "_________________________________________________________________\n",
      "dense_3 (Dense)              (None, 10)                1290      \n",
      "_________________________________________________________________\n",
      "activation_3 (Activation)    (None, 10)                0         \n",
      "=================================================================\n",
      "Total params: 118,282\n",
      "Trainable params: 118,282\n",
      "Non-trainable params: 0\n",
      "_________________________________________________________________\n"
     ]
    }
   ],
   "source": [
    "from __future__ import print_function\n",
    "import numpy as np\n",
    "from keras.datasets import mnist\n",
    "from keras.models import Sequential\n",
    "from keras.layers.core import Dense, Dropout, Activation \n",
    "from keras.optimizers import SGD, RMSprop, Adam\n",
    "from keras.utils import np_utils\n",
    "from keras import regularizers\n",
    "np.random.seed(1671)\n",
    "\n",
    "NB_EPOCH = 20 #Number of iterations\n",
    "BATCH_SIZE = 128\n",
    "VERBOSE = 1\n",
    "NB_CLASSES = 10 #Number of outputs\n",
    "OPTIMIZER = Adam() #type of optimizer \n",
    "N_HIDDEN = 128\n",
    "VALIDATION_SPLIT = 0.2 #how much of the dataset is reserved for validation\n",
    "DROPOUT = 0.3\n",
    "\n",
    "(X_train, y_train), (X_test, y_test) = mnist.load_data()\n",
    "\n",
    "RESHAPED = 784\n",
    "\n",
    "X_train = X_train.reshape(60000,  RESHAPED)\n",
    "X_test = X_test.reshape(10000, RESHAPED)\n",
    "X_train = X_train.astype(\"float32\")\n",
    "X_test = X_test.astype(\"float32\")\n",
    "\n",
    "X_train /= 255\n",
    "X_test /= 255\n",
    "\n",
    "print(X_train.shape[0], \"train samples\")\n",
    "print(X_test.shape[0], \"test samples\")\n",
    "\n",
    "Y_train = np_utils.to_categorical(y_train, NB_CLASSES)\n",
    "Y_test = np_utils.to_categorical(y_test, NB_CLASSES)\n",
    "\n",
    "\n",
    "model = Sequential()\n",
    "model.add(Dense(N_HIDDEN, input_shape=(RESHAPED,)))\n",
    "model.add(Activation(\"relu\"))\n",
    "model.add(Dropout(DROPOUT))\n",
    "model.add(Dense(N_HIDDEN))\n",
    "model.add(Activation(\"relu\"))\n",
    "model.add(Dropout(DROPOUT))\n",
    "model.add(Dense(NB_CLASSES))\n",
    "model.add(Activation(\"softmax\"))\n",
    "model.summary()\n",
    "\n",
    "\n",
    "\n"
   ]
  },
  {
   "cell_type": "code",
   "execution_count": 2,
   "metadata": {},
   "outputs": [
    {
     "name": "stdout",
     "output_type": "stream",
     "text": [
      "Train on 48000 samples, validate on 12000 samples\n",
      "Epoch 1/20\n",
      "48000/48000 [==============================] - 15s 318us/step - loss: 0.5195 - acc: 0.8426 - val_loss: 0.1865 - val_acc: 0.9450\n",
      "Epoch 2/20\n",
      "48000/48000 [==============================] - 4s 86us/step - loss: 0.2323 - acc: 0.9305 - val_loss: 0.1403 - val_acc: 0.9585\n",
      "Epoch 3/20\n",
      "48000/48000 [==============================] - 4s 91us/step - loss: 0.1818 - acc: 0.9455 - val_loss: 0.1137 - val_acc: 0.9662\n",
      "Epoch 4/20\n",
      "48000/48000 [==============================] - 4s 84us/step - loss: 0.1549 - acc: 0.9535 - val_loss: 0.1101 - val_acc: 0.9682\n",
      "Epoch 5/20\n",
      "48000/48000 [==============================] - 4s 77us/step - loss: 0.1324 - acc: 0.9594 - val_loss: 0.0998 - val_acc: 0.9705\n",
      "Epoch 6/20\n",
      "48000/48000 [==============================] - 3s 71us/step - loss: 0.1204 - acc: 0.9621 - val_loss: 0.0887 - val_acc: 0.9735\n",
      "Epoch 7/20\n",
      "48000/48000 [==============================] - 3s 73us/step - loss: 0.1082 - acc: 0.9669 - val_loss: 0.0880 - val_acc: 0.9730\n",
      "Epoch 8/20\n",
      "48000/48000 [==============================] - 3s 71us/step - loss: 0.0993 - acc: 0.9694 - val_loss: 0.0855 - val_acc: 0.9743\n",
      "Epoch 9/20\n",
      "48000/48000 [==============================] - 3s 72us/step - loss: 0.0927 - acc: 0.9714 - val_loss: 0.0847 - val_acc: 0.9752\n",
      "Epoch 10/20\n",
      "48000/48000 [==============================] - 3s 71us/step - loss: 0.0868 - acc: 0.9734 - val_loss: 0.0811 - val_acc: 0.9756\n",
      "Epoch 11/20\n",
      "48000/48000 [==============================] - 3s 71us/step - loss: 0.0803 - acc: 0.9730 - val_loss: 0.0811 - val_acc: 0.9756\n",
      "Epoch 12/20\n",
      "48000/48000 [==============================] - 3s 71us/step - loss: 0.0764 - acc: 0.9761 - val_loss: 0.0776 - val_acc: 0.9770\n",
      "Epoch 13/20\n",
      "48000/48000 [==============================] - 3s 72us/step - loss: 0.0714 - acc: 0.9774 - val_loss: 0.0780 - val_acc: 0.9757\n",
      "Epoch 14/20\n",
      "48000/48000 [==============================] - 3s 70us/step - loss: 0.0688 - acc: 0.9789 - val_loss: 0.0823 - val_acc: 0.9768\n",
      "Epoch 15/20\n",
      "48000/48000 [==============================] - 3s 70us/step - loss: 0.0685 - acc: 0.9776 - val_loss: 0.0784 - val_acc: 0.9782\n",
      "Epoch 16/20\n",
      "48000/48000 [==============================] - 3s 71us/step - loss: 0.0644 - acc: 0.9790 - val_loss: 0.0797 - val_acc: 0.9775\n",
      "Epoch 17/20\n",
      "48000/48000 [==============================] - 3s 71us/step - loss: 0.0605 - acc: 0.9803 - val_loss: 0.0811 - val_acc: 0.9778\n",
      "Epoch 18/20\n",
      "48000/48000 [==============================] - 3s 71us/step - loss: 0.0595 - acc: 0.9803 - val_loss: 0.0737 - val_acc: 0.9783\n",
      "Epoch 19/20\n",
      "48000/48000 [==============================] - 3s 70us/step - loss: 0.0584 - acc: 0.9809 - val_loss: 0.0860 - val_acc: 0.9755\n",
      "Epoch 20/20\n",
      "48000/48000 [==============================] - 3s 71us/step - loss: 0.0572 - acc: 0.9811 - val_loss: 0.0763 - val_acc: 0.9773\n",
      "10000/10000 [==============================] - 1s 82us/step\n",
      "Test score: 0.07449327137880027\n",
      "Test accuracy: 0.9791\n"
     ]
    }
   ],
   "source": [
    "model.compile(loss=\"categorical_crossentropy\", optimizer=OPTIMIZER, metrics=[\"accuracy\"])\n",
    "history = model.fit(X_train, Y_train, batch_size=BATCH_SIZE, epochs=NB_EPOCH, verbose=VERBOSE, validation_split=VALIDATION_SPLIT)\n",
    "\n",
    "\n",
    "score = model.evaluate(X_test, Y_test, verbose=VERBOSE)\n",
    "print(\"Test score:\", score[0])\n",
    "print(\"Test accuracy:\", score[1])"
   ]
  },
  {
   "cell_type": "code",
   "execution_count": null,
   "metadata": {
    "collapsed": true
   },
   "outputs": [],
   "source": []
  }
 ],
 "metadata": {
  "kernelspec": {
   "display_name": "Python 3",
   "language": "python",
   "name": "python3"
  },
  "language_info": {
   "codemirror_mode": {
    "name": "ipython",
    "version": 3
   },
   "file_extension": ".py",
   "mimetype": "text/x-python",
   "name": "python",
   "nbconvert_exporter": "python",
   "pygments_lexer": "ipython3",
   "version": "3.6.1"
  }
 },
 "nbformat": 4,
 "nbformat_minor": 2
}
